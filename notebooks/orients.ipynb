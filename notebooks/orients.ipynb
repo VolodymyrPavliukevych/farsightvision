{
 "cells": [
  {
   "cell_type": "code",
   "execution_count": 1,
   "id": "46db8658-d7ad-405c-a773-7e09ed54adb8",
   "metadata": {},
   "outputs": [],
   "source": [
    "# -*- coding:utf8 -*-\n",
    "# !/usr/bin/env python3\n",
    "# Copyright 2025 Volodymyr Pavliukevych\n",
    "# Author Volodymyr Pavliukevych\n",
    "\n",
    "\"\"\"This is a POC representation\n",
    "\"\"\"\n",
    "import os \n",
    "from PIL import Image, ImageCms\n",
    "\n",
    "import cv2\n",
    "import numpy as np\n",
    "from uuid import uuid4"
   ]
  },
  {
   "cell_type": "code",
   "execution_count": null,
   "id": "fdf78d71-06ce-47d1-beb7-2fb07327cb56",
   "metadata": {},
   "outputs": [],
   "source": [
    "# Prepare "
   ]
  },
  {
   "cell_type": "code",
   "execution_count": null,
   "id": "6da56068-c3e7-466c-9400-a425955a1185",
   "metadata": {},
   "outputs": [],
   "source": []
  }
 ],
 "metadata": {
  "kernelspec": {
   "display_name": "Python 3 (ipykernel)",
   "language": "python",
   "name": "python3"
  },
  "language_info": {
   "codemirror_mode": {
    "name": "ipython",
    "version": 3
   },
   "file_extension": ".py",
   "mimetype": "text/x-python",
   "name": "python",
   "nbconvert_exporter": "python",
   "pygments_lexer": "ipython3",
   "version": "3.12.9"
  }
 },
 "nbformat": 4,
 "nbformat_minor": 5
}
